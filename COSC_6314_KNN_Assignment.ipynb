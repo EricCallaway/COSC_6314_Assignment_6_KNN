{
  "nbformat": 4,
  "nbformat_minor": 0,
  "metadata": {
    "colab": {
      "provenance": [],
      "collapsed_sections": [],
      "authorship_tag": "ABX9TyM6YBbXqHZWRQbI9lZXFSTf",
      "include_colab_link": true
    },
    "kernelspec": {
      "name": "python3",
      "display_name": "Python 3"
    },
    "language_info": {
      "name": "python"
    }
  },
  "cells": [
    {
      "cell_type": "markdown",
      "metadata": {
        "id": "view-in-github",
        "colab_type": "text"
      },
      "source": [
        "<a href=\"https://colab.research.google.com/github/EricCallaway/COSC_6314_Assignment_6_KNN/blob/CV/COSC_6314_KNN_Assignment.ipynb\" target=\"_parent\"><img src=\"https://colab.research.google.com/assets/colab-badge.svg\" alt=\"Open In Colab\"/></a>"
      ]
    },
    {
      "cell_type": "code",
      "execution_count": 1,
      "metadata": {
        "id": "zLDstTZ4xopS"
      },
      "outputs": [],
      "source": [
        "import pandas as pd\n",
        "import numpy as np\n",
        "\n",
        "from sklearn.model_selection import train_test_split\n",
        "from sklearn.neighbors import KNeighborsClassifier\n",
        "from sklearn.preprocessing import StandardScaler\n",
        "from sklearn.metrics import confusion_matrix\n",
        "from sklearn.metrics import classification_report\n",
        "from sklearn.metrics import f1_score\n",
        "from sklearn.model_selection import cross_val_score\n",
        "from sklearn.model_selection import StratifiedKFold\n"
      ]
    },
    {
      "cell_type": "code",
      "source": [
        "from google.colab import drive\n",
        "drive.mount('/content/drive', force_remount=False)"
      ],
      "metadata": {
        "colab": {
          "base_uri": "https://localhost:8080/"
        },
        "id": "l0qmvRNSzpwR",
        "outputId": "257e57b2-5c09-47ab-aafd-cd186bd3de6e"
      },
      "execution_count": 2,
      "outputs": [
        {
          "output_type": "stream",
          "name": "stdout",
          "text": [
            "Mounted at /content/drive\n"
          ]
        }
      ]
    },
    {
      "cell_type": "markdown",
      "source": [
        "Reading in the training data"
      ],
      "metadata": {
        "id": "o9Vlvh3a01dX"
      }
    },
    {
      "cell_type": "code",
      "source": [
        "file_path = '/content/drive/MyDrive/Colab Notebooks/Data Mining/data/diabetes.csv'\n",
        "df = pd.read_csv(file_path)"
      ],
      "metadata": {
        "id": "uaXweyVJ0CxH"
      },
      "execution_count": 3,
      "outputs": []
    },
    {
      "cell_type": "code",
      "source": [
        "df.head()"
      ],
      "metadata": {
        "colab": {
          "base_uri": "https://localhost:8080/",
          "height": 206
        },
        "id": "r0dEJ_R60T4c",
        "outputId": "244d660e-2fb1-41a3-bec3-4a21acbc1226"
      },
      "execution_count": 4,
      "outputs": [
        {
          "output_type": "execute_result",
          "data": {
            "text/plain": [
              "   Pregnancies  Glucose  BloodPressure  SkinThickness  Insulin   BMI  \\\n",
              "0            6      148             72             35        0  33.6   \n",
              "1            1       85             66             29        0  26.6   \n",
              "2            8      183             64              0        0  23.3   \n",
              "3            1       89             66             23       94  28.1   \n",
              "4            0      137             40             35      168  43.1   \n",
              "\n",
              "   DiabetesPedigreeFunction  Age  Outcome  \n",
              "0                     0.627   50        1  \n",
              "1                     0.351   31        0  \n",
              "2                     0.672   32        1  \n",
              "3                     0.167   21        0  \n",
              "4                     2.288   33        1  "
            ],
            "text/html": [
              "\n",
              "  <div id=\"df-4829b86c-3254-48ff-a806-5f79c8633ff7\">\n",
              "    <div class=\"colab-df-container\">\n",
              "      <div>\n",
              "<style scoped>\n",
              "    .dataframe tbody tr th:only-of-type {\n",
              "        vertical-align: middle;\n",
              "    }\n",
              "\n",
              "    .dataframe tbody tr th {\n",
              "        vertical-align: top;\n",
              "    }\n",
              "\n",
              "    .dataframe thead th {\n",
              "        text-align: right;\n",
              "    }\n",
              "</style>\n",
              "<table border=\"1\" class=\"dataframe\">\n",
              "  <thead>\n",
              "    <tr style=\"text-align: right;\">\n",
              "      <th></th>\n",
              "      <th>Pregnancies</th>\n",
              "      <th>Glucose</th>\n",
              "      <th>BloodPressure</th>\n",
              "      <th>SkinThickness</th>\n",
              "      <th>Insulin</th>\n",
              "      <th>BMI</th>\n",
              "      <th>DiabetesPedigreeFunction</th>\n",
              "      <th>Age</th>\n",
              "      <th>Outcome</th>\n",
              "    </tr>\n",
              "  </thead>\n",
              "  <tbody>\n",
              "    <tr>\n",
              "      <th>0</th>\n",
              "      <td>6</td>\n",
              "      <td>148</td>\n",
              "      <td>72</td>\n",
              "      <td>35</td>\n",
              "      <td>0</td>\n",
              "      <td>33.6</td>\n",
              "      <td>0.627</td>\n",
              "      <td>50</td>\n",
              "      <td>1</td>\n",
              "    </tr>\n",
              "    <tr>\n",
              "      <th>1</th>\n",
              "      <td>1</td>\n",
              "      <td>85</td>\n",
              "      <td>66</td>\n",
              "      <td>29</td>\n",
              "      <td>0</td>\n",
              "      <td>26.6</td>\n",
              "      <td>0.351</td>\n",
              "      <td>31</td>\n",
              "      <td>0</td>\n",
              "    </tr>\n",
              "    <tr>\n",
              "      <th>2</th>\n",
              "      <td>8</td>\n",
              "      <td>183</td>\n",
              "      <td>64</td>\n",
              "      <td>0</td>\n",
              "      <td>0</td>\n",
              "      <td>23.3</td>\n",
              "      <td>0.672</td>\n",
              "      <td>32</td>\n",
              "      <td>1</td>\n",
              "    </tr>\n",
              "    <tr>\n",
              "      <th>3</th>\n",
              "      <td>1</td>\n",
              "      <td>89</td>\n",
              "      <td>66</td>\n",
              "      <td>23</td>\n",
              "      <td>94</td>\n",
              "      <td>28.1</td>\n",
              "      <td>0.167</td>\n",
              "      <td>21</td>\n",
              "      <td>0</td>\n",
              "    </tr>\n",
              "    <tr>\n",
              "      <th>4</th>\n",
              "      <td>0</td>\n",
              "      <td>137</td>\n",
              "      <td>40</td>\n",
              "      <td>35</td>\n",
              "      <td>168</td>\n",
              "      <td>43.1</td>\n",
              "      <td>2.288</td>\n",
              "      <td>33</td>\n",
              "      <td>1</td>\n",
              "    </tr>\n",
              "  </tbody>\n",
              "</table>\n",
              "</div>\n",
              "      <button class=\"colab-df-convert\" onclick=\"convertToInteractive('df-4829b86c-3254-48ff-a806-5f79c8633ff7')\"\n",
              "              title=\"Convert this dataframe to an interactive table.\"\n",
              "              style=\"display:none;\">\n",
              "        \n",
              "  <svg xmlns=\"http://www.w3.org/2000/svg\" height=\"24px\"viewBox=\"0 0 24 24\"\n",
              "       width=\"24px\">\n",
              "    <path d=\"M0 0h24v24H0V0z\" fill=\"none\"/>\n",
              "    <path d=\"M18.56 5.44l.94 2.06.94-2.06 2.06-.94-2.06-.94-.94-2.06-.94 2.06-2.06.94zm-11 1L8.5 8.5l.94-2.06 2.06-.94-2.06-.94L8.5 2.5l-.94 2.06-2.06.94zm10 10l.94 2.06.94-2.06 2.06-.94-2.06-.94-.94-2.06-.94 2.06-2.06.94z\"/><path d=\"M17.41 7.96l-1.37-1.37c-.4-.4-.92-.59-1.43-.59-.52 0-1.04.2-1.43.59L10.3 9.45l-7.72 7.72c-.78.78-.78 2.05 0 2.83L4 21.41c.39.39.9.59 1.41.59.51 0 1.02-.2 1.41-.59l7.78-7.78 2.81-2.81c.8-.78.8-2.07 0-2.86zM5.41 20L4 18.59l7.72-7.72 1.47 1.35L5.41 20z\"/>\n",
              "  </svg>\n",
              "      </button>\n",
              "      \n",
              "  <style>\n",
              "    .colab-df-container {\n",
              "      display:flex;\n",
              "      flex-wrap:wrap;\n",
              "      gap: 12px;\n",
              "    }\n",
              "\n",
              "    .colab-df-convert {\n",
              "      background-color: #E8F0FE;\n",
              "      border: none;\n",
              "      border-radius: 50%;\n",
              "      cursor: pointer;\n",
              "      display: none;\n",
              "      fill: #1967D2;\n",
              "      height: 32px;\n",
              "      padding: 0 0 0 0;\n",
              "      width: 32px;\n",
              "    }\n",
              "\n",
              "    .colab-df-convert:hover {\n",
              "      background-color: #E2EBFA;\n",
              "      box-shadow: 0px 1px 2px rgba(60, 64, 67, 0.3), 0px 1px 3px 1px rgba(60, 64, 67, 0.15);\n",
              "      fill: #174EA6;\n",
              "    }\n",
              "\n",
              "    [theme=dark] .colab-df-convert {\n",
              "      background-color: #3B4455;\n",
              "      fill: #D2E3FC;\n",
              "    }\n",
              "\n",
              "    [theme=dark] .colab-df-convert:hover {\n",
              "      background-color: #434B5C;\n",
              "      box-shadow: 0px 1px 3px 1px rgba(0, 0, 0, 0.15);\n",
              "      filter: drop-shadow(0px 1px 2px rgba(0, 0, 0, 0.3));\n",
              "      fill: #FFFFFF;\n",
              "    }\n",
              "  </style>\n",
              "\n",
              "      <script>\n",
              "        const buttonEl =\n",
              "          document.querySelector('#df-4829b86c-3254-48ff-a806-5f79c8633ff7 button.colab-df-convert');\n",
              "        buttonEl.style.display =\n",
              "          google.colab.kernel.accessAllowed ? 'block' : 'none';\n",
              "\n",
              "        async function convertToInteractive(key) {\n",
              "          const element = document.querySelector('#df-4829b86c-3254-48ff-a806-5f79c8633ff7');\n",
              "          const dataTable =\n",
              "            await google.colab.kernel.invokeFunction('convertToInteractive',\n",
              "                                                     [key], {});\n",
              "          if (!dataTable) return;\n",
              "\n",
              "          const docLinkHtml = 'Like what you see? Visit the ' +\n",
              "            '<a target=\"_blank\" href=https://colab.research.google.com/notebooks/data_table.ipynb>data table notebook</a>'\n",
              "            + ' to learn more about interactive tables.';\n",
              "          element.innerHTML = '';\n",
              "          dataTable['output_type'] = 'display_data';\n",
              "          await google.colab.output.renderOutput(dataTable, element);\n",
              "          const docLink = document.createElement('div');\n",
              "          docLink.innerHTML = docLinkHtml;\n",
              "          element.appendChild(docLink);\n",
              "        }\n",
              "      </script>\n",
              "    </div>\n",
              "  </div>\n",
              "  "
            ]
          },
          "metadata": {},
          "execution_count": 4
        }
      ]
    },
    {
      "cell_type": "markdown",
      "source": [
        "Confirming the shape of the training data. The data is 768 rows by 9 columns."
      ],
      "metadata": {
        "id": "Q3m4KKR_04gp"
      }
    },
    {
      "cell_type": "code",
      "source": [
        "df.shape"
      ],
      "metadata": {
        "colab": {
          "base_uri": "https://localhost:8080/"
        },
        "id": "rGz8QgJW0acD",
        "outputId": "138e39b0-4972-48cc-b724-f7fa6e33757d"
      },
      "execution_count": 5,
      "outputs": [
        {
          "output_type": "execute_result",
          "data": {
            "text/plain": [
              "(768, 9)"
            ]
          },
          "metadata": {},
          "execution_count": 5
        }
      ]
    },
    {
      "cell_type": "markdown",
      "source": [
        "Removing Zeros from columns where it is not ideal. I.e someone cannot have zero skin thickness."
      ],
      "metadata": {
        "id": "1Yihr1FOygTy"
      }
    },
    {
      "cell_type": "code",
      "source": [
        "#Replace Zeros\n",
        "zero_not_accepted = ['Glucose', 'BloodPressure', 'SkinThickness', 'BMI', 'Insulin']\n",
        "\n",
        "for column in zero_not_accepted:\n",
        "  df[column] = df[column].replace(0, np.NaN)\n",
        "  mean = int(df[column].mean(skipna=True))\n",
        "  df[column] = df[column].replace(np.NaN, mean)"
      ],
      "metadata": {
        "id": "f4oWrLQbyoNQ"
      },
      "execution_count": 6,
      "outputs": []
    },
    {
      "cell_type": "markdown",
      "source": [
        "Dropping the target colunmn to create a training dataset."
      ],
      "metadata": {
        "id": "Si9BIf9O1PTU"
      }
    },
    {
      "cell_type": "code",
      "source": [
        "x = df.drop(columns=['Outcome'])\n",
        "x.head()"
      ],
      "metadata": {
        "colab": {
          "base_uri": "https://localhost:8080/",
          "height": 206
        },
        "id": "kQQwJxzm1DRN",
        "outputId": "26ad5049-1f7d-4d39-ea43-127b585e5836"
      },
      "execution_count": 7,
      "outputs": [
        {
          "output_type": "execute_result",
          "data": {
            "text/plain": [
              "   Pregnancies  Glucose  BloodPressure  SkinThickness  Insulin   BMI  \\\n",
              "0            6    148.0           72.0           35.0    155.0  33.6   \n",
              "1            1     85.0           66.0           29.0    155.0  26.6   \n",
              "2            8    183.0           64.0           29.0    155.0  23.3   \n",
              "3            1     89.0           66.0           23.0     94.0  28.1   \n",
              "4            0    137.0           40.0           35.0    168.0  43.1   \n",
              "\n",
              "   DiabetesPedigreeFunction  Age  \n",
              "0                     0.627   50  \n",
              "1                     0.351   31  \n",
              "2                     0.672   32  \n",
              "3                     0.167   21  \n",
              "4                     2.288   33  "
            ],
            "text/html": [
              "\n",
              "  <div id=\"df-f907bac9-f2ef-46ba-a7c0-108f780b1eab\">\n",
              "    <div class=\"colab-df-container\">\n",
              "      <div>\n",
              "<style scoped>\n",
              "    .dataframe tbody tr th:only-of-type {\n",
              "        vertical-align: middle;\n",
              "    }\n",
              "\n",
              "    .dataframe tbody tr th {\n",
              "        vertical-align: top;\n",
              "    }\n",
              "\n",
              "    .dataframe thead th {\n",
              "        text-align: right;\n",
              "    }\n",
              "</style>\n",
              "<table border=\"1\" class=\"dataframe\">\n",
              "  <thead>\n",
              "    <tr style=\"text-align: right;\">\n",
              "      <th></th>\n",
              "      <th>Pregnancies</th>\n",
              "      <th>Glucose</th>\n",
              "      <th>BloodPressure</th>\n",
              "      <th>SkinThickness</th>\n",
              "      <th>Insulin</th>\n",
              "      <th>BMI</th>\n",
              "      <th>DiabetesPedigreeFunction</th>\n",
              "      <th>Age</th>\n",
              "    </tr>\n",
              "  </thead>\n",
              "  <tbody>\n",
              "    <tr>\n",
              "      <th>0</th>\n",
              "      <td>6</td>\n",
              "      <td>148.0</td>\n",
              "      <td>72.0</td>\n",
              "      <td>35.0</td>\n",
              "      <td>155.0</td>\n",
              "      <td>33.6</td>\n",
              "      <td>0.627</td>\n",
              "      <td>50</td>\n",
              "    </tr>\n",
              "    <tr>\n",
              "      <th>1</th>\n",
              "      <td>1</td>\n",
              "      <td>85.0</td>\n",
              "      <td>66.0</td>\n",
              "      <td>29.0</td>\n",
              "      <td>155.0</td>\n",
              "      <td>26.6</td>\n",
              "      <td>0.351</td>\n",
              "      <td>31</td>\n",
              "    </tr>\n",
              "    <tr>\n",
              "      <th>2</th>\n",
              "      <td>8</td>\n",
              "      <td>183.0</td>\n",
              "      <td>64.0</td>\n",
              "      <td>29.0</td>\n",
              "      <td>155.0</td>\n",
              "      <td>23.3</td>\n",
              "      <td>0.672</td>\n",
              "      <td>32</td>\n",
              "    </tr>\n",
              "    <tr>\n",
              "      <th>3</th>\n",
              "      <td>1</td>\n",
              "      <td>89.0</td>\n",
              "      <td>66.0</td>\n",
              "      <td>23.0</td>\n",
              "      <td>94.0</td>\n",
              "      <td>28.1</td>\n",
              "      <td>0.167</td>\n",
              "      <td>21</td>\n",
              "    </tr>\n",
              "    <tr>\n",
              "      <th>4</th>\n",
              "      <td>0</td>\n",
              "      <td>137.0</td>\n",
              "      <td>40.0</td>\n",
              "      <td>35.0</td>\n",
              "      <td>168.0</td>\n",
              "      <td>43.1</td>\n",
              "      <td>2.288</td>\n",
              "      <td>33</td>\n",
              "    </tr>\n",
              "  </tbody>\n",
              "</table>\n",
              "</div>\n",
              "      <button class=\"colab-df-convert\" onclick=\"convertToInteractive('df-f907bac9-f2ef-46ba-a7c0-108f780b1eab')\"\n",
              "              title=\"Convert this dataframe to an interactive table.\"\n",
              "              style=\"display:none;\">\n",
              "        \n",
              "  <svg xmlns=\"http://www.w3.org/2000/svg\" height=\"24px\"viewBox=\"0 0 24 24\"\n",
              "       width=\"24px\">\n",
              "    <path d=\"M0 0h24v24H0V0z\" fill=\"none\"/>\n",
              "    <path d=\"M18.56 5.44l.94 2.06.94-2.06 2.06-.94-2.06-.94-.94-2.06-.94 2.06-2.06.94zm-11 1L8.5 8.5l.94-2.06 2.06-.94-2.06-.94L8.5 2.5l-.94 2.06-2.06.94zm10 10l.94 2.06.94-2.06 2.06-.94-2.06-.94-.94-2.06-.94 2.06-2.06.94z\"/><path d=\"M17.41 7.96l-1.37-1.37c-.4-.4-.92-.59-1.43-.59-.52 0-1.04.2-1.43.59L10.3 9.45l-7.72 7.72c-.78.78-.78 2.05 0 2.83L4 21.41c.39.39.9.59 1.41.59.51 0 1.02-.2 1.41-.59l7.78-7.78 2.81-2.81c.8-.78.8-2.07 0-2.86zM5.41 20L4 18.59l7.72-7.72 1.47 1.35L5.41 20z\"/>\n",
              "  </svg>\n",
              "      </button>\n",
              "      \n",
              "  <style>\n",
              "    .colab-df-container {\n",
              "      display:flex;\n",
              "      flex-wrap:wrap;\n",
              "      gap: 12px;\n",
              "    }\n",
              "\n",
              "    .colab-df-convert {\n",
              "      background-color: #E8F0FE;\n",
              "      border: none;\n",
              "      border-radius: 50%;\n",
              "      cursor: pointer;\n",
              "      display: none;\n",
              "      fill: #1967D2;\n",
              "      height: 32px;\n",
              "      padding: 0 0 0 0;\n",
              "      width: 32px;\n",
              "    }\n",
              "\n",
              "    .colab-df-convert:hover {\n",
              "      background-color: #E2EBFA;\n",
              "      box-shadow: 0px 1px 2px rgba(60, 64, 67, 0.3), 0px 1px 3px 1px rgba(60, 64, 67, 0.15);\n",
              "      fill: #174EA6;\n",
              "    }\n",
              "\n",
              "    [theme=dark] .colab-df-convert {\n",
              "      background-color: #3B4455;\n",
              "      fill: #D2E3FC;\n",
              "    }\n",
              "\n",
              "    [theme=dark] .colab-df-convert:hover {\n",
              "      background-color: #434B5C;\n",
              "      box-shadow: 0px 1px 3px 1px rgba(0, 0, 0, 0.15);\n",
              "      filter: drop-shadow(0px 1px 2px rgba(0, 0, 0, 0.3));\n",
              "      fill: #FFFFFF;\n",
              "    }\n",
              "  </style>\n",
              "\n",
              "      <script>\n",
              "        const buttonEl =\n",
              "          document.querySelector('#df-f907bac9-f2ef-46ba-a7c0-108f780b1eab button.colab-df-convert');\n",
              "        buttonEl.style.display =\n",
              "          google.colab.kernel.accessAllowed ? 'block' : 'none';\n",
              "\n",
              "        async function convertToInteractive(key) {\n",
              "          const element = document.querySelector('#df-f907bac9-f2ef-46ba-a7c0-108f780b1eab');\n",
              "          const dataTable =\n",
              "            await google.colab.kernel.invokeFunction('convertToInteractive',\n",
              "                                                     [key], {});\n",
              "          if (!dataTable) return;\n",
              "\n",
              "          const docLinkHtml = 'Like what you see? Visit the ' +\n",
              "            '<a target=\"_blank\" href=https://colab.research.google.com/notebooks/data_table.ipynb>data table notebook</a>'\n",
              "            + ' to learn more about interactive tables.';\n",
              "          element.innerHTML = '';\n",
              "          dataTable['output_type'] = 'display_data';\n",
              "          await google.colab.output.renderOutput(dataTable, element);\n",
              "          const docLink = document.createElement('div');\n",
              "          docLink.innerHTML = docLinkHtml;\n",
              "          element.appendChild(docLink);\n",
              "        }\n",
              "      </script>\n",
              "    </div>\n",
              "  </div>\n",
              "  "
            ]
          },
          "metadata": {},
          "execution_count": 7
        }
      ]
    },
    {
      "cell_type": "code",
      "source": [
        "y = df['Outcome'].values\n",
        "print(y[0:10])\n",
        "print(type(y))"
      ],
      "metadata": {
        "colab": {
          "base_uri": "https://localhost:8080/"
        },
        "id": "gRaWbyhP1TAc",
        "outputId": "214df2dc-fbae-4d7c-e6f9-2ee6d929b7ae"
      },
      "execution_count": 8,
      "outputs": [
        {
          "output_type": "stream",
          "name": "stdout",
          "text": [
            "[1 0 1 0 1 0 1 0 1 1]\n",
            "<class 'numpy.ndarray'>\n"
          ]
        }
      ]
    },
    {
      "cell_type": "markdown",
      "source": [
        "Creating Training and Testing sets"
      ],
      "metadata": {
        "id": "R3Bnk4te18CA"
      }
    },
    {
      "cell_type": "code",
      "source": [
        "x_train, x_test, y_train, y_test = train_test_split(x, y, test_size=0.2, random_state=1337, stratify=y)"
      ],
      "metadata": {
        "id": "vUE_5KYa1tuI"
      },
      "execution_count": 9,
      "outputs": []
    },
    {
      "cell_type": "markdown",
      "source": [
        "Perform Feature Scaling or Normalization of feature values"
      ],
      "metadata": {
        "id": "JHI0evv1zgBo"
      }
    },
    {
      "cell_type": "code",
      "source": [
        "sc_x = StandardScaler()\n",
        "x_train = sc_x.fit_transform(x_train)\n",
        "x_test = sc_x.transform(x_test)\n",
        "\n"
      ],
      "metadata": {
        "id": "-gnM0pTHzmJp"
      },
      "execution_count": 10,
      "outputs": []
    },
    {
      "cell_type": "markdown",
      "source": [
        "Creating Stratified KFold object"
      ],
      "metadata": {
        "id": "amnPl54pFHWr"
      }
    },
    {
      "cell_type": "code",
      "source": [
        "skf = StratifiedKFold(n_splits=10)\n",
        "print(skf)"
      ],
      "metadata": {
        "colab": {
          "base_uri": "https://localhost:8080/"
        },
        "id": "ij2Zi4HW6EPn",
        "outputId": "860cdbb3-737f-4d54-a78c-ddb08abf0c2d"
      },
      "execution_count": 11,
      "outputs": [
        {
          "output_type": "stream",
          "name": "stdout",
          "text": [
            "StratifiedKFold(n_splits=10, random_state=None, shuffle=False)\n"
          ]
        }
      ]
    },
    {
      "cell_type": "markdown",
      "source": [
        "Function to get the accuracy score."
      ],
      "metadata": {
        "id": "vJul8dVFFK8x"
      }
    },
    {
      "cell_type": "code",
      "source": [
        "def get_score(model, x_train, x_test, y_train, y_test):\n",
        "    model.fit(x_train, y_train)\n",
        "    return model.score(x_test, y_test)"
      ],
      "metadata": {
        "id": "XsKnex_KDhoB"
      },
      "execution_count": 12,
      "outputs": []
    },
    {
      "cell_type": "markdown",
      "source": [
        "Bulding the Classifier object"
      ],
      "metadata": {
        "id": "ZNXVSpjDFPlv"
      }
    },
    {
      "cell_type": "code",
      "source": [
        "classifier = KNeighborsClassifier(n_neighbors=11, p=2, metric='euclidean')"
      ],
      "metadata": {
        "id": "VSFWP26t0Alp"
      },
      "execution_count": 13,
      "outputs": []
    },
    {
      "cell_type": "markdown",
      "source": [
        "Implementing Stratified KFold on the dataset."
      ],
      "metadata": {
        "id": "mABQZ3dTFRw-"
      }
    },
    {
      "cell_type": "code",
      "source": [
        "scores = []\n",
        "\n",
        "for train_index, test_index in skf.split(x,y):\n",
        "  print('TRAIN:', train_index, 'TEST:', test_index)\n",
        "  x_train_, x_test_ = x.iloc[train_index], x.iloc[test_index]\n",
        "  y_train_, y_test_ = y[train_index], y[test_index]\n",
        "  \n",
        "  scores.append(get_score(classifier, x_train, x_test, y_train, y_test))"
      ],
      "metadata": {
        "colab": {
          "base_uri": "https://localhost:8080/"
        },
        "id": "NcGZI14B-KwW",
        "outputId": "f796b962-6cea-4773-dd55-771c2d569ef6"
      },
      "execution_count": 14,
      "outputs": [
        {
          "output_type": "stream",
          "name": "stdout",
          "text": [
            "TRAIN: [ 61  64  66  70  72  78  83  84  85  86  87  88  89  90  91  92  93  94\n",
            "  95  96  97  98  99 100 101 102 103 104 105 106 107 108 109 110 111 112\n",
            " 113 114 115 116 117 118 119 120 121 122 123 124 125 126 127 128 129 130\n",
            " 131 132 133 134 135 136 137 138 139 140 141 142 143 144 145 146 147 148\n",
            " 149 150 151 152 153 154 155 156 157 158 159 160 161 162 163 164 165 166\n",
            " 167 168 169 170 171 172 173 174 175 176 177 178 179 180 181 182 183 184\n",
            " 185 186 187 188 189 190 191 192 193 194 195 196 197 198 199 200 201 202\n",
            " 203 204 205 206 207 208 209 210 211 212 213 214 215 216 217 218 219 220\n",
            " 221 222 223 224 225 226 227 228 229 230 231 232 233 234 235 236 237 238\n",
            " 239 240 241 242 243 244 245 246 247 248 249 250 251 252 253 254 255 256\n",
            " 257 258 259 260 261 262 263 264 265 266 267 268 269 270 271 272 273 274\n",
            " 275 276 277 278 279 280 281 282 283 284 285 286 287 288 289 290 291 292\n",
            " 293 294 295 296 297 298 299 300 301 302 303 304 305 306 307 308 309 310\n",
            " 311 312 313 314 315 316 317 318 319 320 321 322 323 324 325 326 327 328\n",
            " 329 330 331 332 333 334 335 336 337 338 339 340 341 342 343 344 345 346\n",
            " 347 348 349 350 351 352 353 354 355 356 357 358 359 360 361 362 363 364\n",
            " 365 366 367 368 369 370 371 372 373 374 375 376 377 378 379 380 381 382\n",
            " 383 384 385 386 387 388 389 390 391 392 393 394 395 396 397 398 399 400\n",
            " 401 402 403 404 405 406 407 408 409 410 411 412 413 414 415 416 417 418\n",
            " 419 420 421 422 423 424 425 426 427 428 429 430 431 432 433 434 435 436\n",
            " 437 438 439 440 441 442 443 444 445 446 447 448 449 450 451 452 453 454\n",
            " 455 456 457 458 459 460 461 462 463 464 465 466 467 468 469 470 471 472\n",
            " 473 474 475 476 477 478 479 480 481 482 483 484 485 486 487 488 489 490\n",
            " 491 492 493 494 495 496 497 498 499 500 501 502 503 504 505 506 507 508\n",
            " 509 510 511 512 513 514 515 516 517 518 519 520 521 522 523 524 525 526\n",
            " 527 528 529 530 531 532 533 534 535 536 537 538 539 540 541 542 543 544\n",
            " 545 546 547 548 549 550 551 552 553 554 555 556 557 558 559 560 561 562\n",
            " 563 564 565 566 567 568 569 570 571 572 573 574 575 576 577 578 579 580\n",
            " 581 582 583 584 585 586 587 588 589 590 591 592 593 594 595 596 597 598\n",
            " 599 600 601 602 603 604 605 606 607 608 609 610 611 612 613 614 615 616\n",
            " 617 618 619 620 621 622 623 624 625 626 627 628 629 630 631 632 633 634\n",
            " 635 636 637 638 639 640 641 642 643 644 645 646 647 648 649 650 651 652\n",
            " 653 654 655 656 657 658 659 660 661 662 663 664 665 666 667 668 669 670\n",
            " 671 672 673 674 675 676 677 678 679 680 681 682 683 684 685 686 687 688\n",
            " 689 690 691 692 693 694 695 696 697 698 699 700 701 702 703 704 705 706\n",
            " 707 708 709 710 711 712 713 714 715 716 717 718 719 720 721 722 723 724\n",
            " 725 726 727 728 729 730 731 732 733 734 735 736 737 738 739 740 741 742\n",
            " 743 744 745 746 747 748 749 750 751 752 753 754 755 756 757 758 759 760\n",
            " 761 762 763 764 765 766 767] TEST: [ 0  1  2  3  4  5  6  7  8  9 10 11 12 13 14 15 16 17 18 19 20 21 22 23\n",
            " 24 25 26 27 28 29 30 31 32 33 34 35 36 37 38 39 40 41 42 43 44 45 46 47\n",
            " 48 49 50 51 52 53 54 55 56 57 58 59 60 62 63 65 67 68 69 71 73 74 75 76\n",
            " 77 79 80 81 82]\n",
            "TRAIN: [  0   1   2   3   4   5   6   7   8   9  10  11  12  13  14  15  16  17\n",
            "  18  19  20  21  22  23  24  25  26  27  28  29  30  31  32  33  34  35\n",
            "  36  37  38  39  40  41  42  43  44  45  46  47  48  49  50  51  52  53\n",
            "  54  55  56  57  58  59  60  62  63  65  67  68  69  71  73  74  75  76\n",
            "  77  79  80  81  82 154 155 156 157 158 159 160 161 162 163 164 165 166\n",
            " 167 168 169 170 171 172 173 174 175 176 177 178 179 180 181 182 183 184\n",
            " 185 186 187 188 189 190 191 192 193 194 195 196 197 198 199 200 201 202\n",
            " 203 204 205 206 207 208 209 210 211 212 213 214 215 216 217 218 219 220\n",
            " 221 222 223 224 225 226 227 228 229 230 231 232 233 234 235 236 237 238\n",
            " 239 240 241 242 243 244 245 246 247 248 249 250 251 252 253 254 255 256\n",
            " 257 258 259 260 261 262 263 264 265 266 267 268 269 270 271 272 273 274\n",
            " 275 276 277 278 279 280 281 282 283 284 285 286 287 288 289 290 291 292\n",
            " 293 294 295 296 297 298 299 300 301 302 303 304 305 306 307 308 309 310\n",
            " 311 312 313 314 315 316 317 318 319 320 321 322 323 324 325 326 327 328\n",
            " 329 330 331 332 333 334 335 336 337 338 339 340 341 342 343 344 345 346\n",
            " 347 348 349 350 351 352 353 354 355 356 357 358 359 360 361 362 363 364\n",
            " 365 366 367 368 369 370 371 372 373 374 375 376 377 378 379 380 381 382\n",
            " 383 384 385 386 387 388 389 390 391 392 393 394 395 396 397 398 399 400\n",
            " 401 402 403 404 405 406 407 408 409 410 411 412 413 414 415 416 417 418\n",
            " 419 420 421 422 423 424 425 426 427 428 429 430 431 432 433 434 435 436\n",
            " 437 438 439 440 441 442 443 444 445 446 447 448 449 450 451 452 453 454\n",
            " 455 456 457 458 459 460 461 462 463 464 465 466 467 468 469 470 471 472\n",
            " 473 474 475 476 477 478 479 480 481 482 483 484 485 486 487 488 489 490\n",
            " 491 492 493 494 495 496 497 498 499 500 501 502 503 504 505 506 507 508\n",
            " 509 510 511 512 513 514 515 516 517 518 519 520 521 522 523 524 525 526\n",
            " 527 528 529 530 531 532 533 534 535 536 537 538 539 540 541 542 543 544\n",
            " 545 546 547 548 549 550 551 552 553 554 555 556 557 558 559 560 561 562\n",
            " 563 564 565 566 567 568 569 570 571 572 573 574 575 576 577 578 579 580\n",
            " 581 582 583 584 585 586 587 588 589 590 591 592 593 594 595 596 597 598\n",
            " 599 600 601 602 603 604 605 606 607 608 609 610 611 612 613 614 615 616\n",
            " 617 618 619 620 621 622 623 624 625 626 627 628 629 630 631 632 633 634\n",
            " 635 636 637 638 639 640 641 642 643 644 645 646 647 648 649 650 651 652\n",
            " 653 654 655 656 657 658 659 660 661 662 663 664 665 666 667 668 669 670\n",
            " 671 672 673 674 675 676 677 678 679 680 681 682 683 684 685 686 687 688\n",
            " 689 690 691 692 693 694 695 696 697 698 699 700 701 702 703 704 705 706\n",
            " 707 708 709 710 711 712 713 714 715 716 717 718 719 720 721 722 723 724\n",
            " 725 726 727 728 729 730 731 732 733 734 735 736 737 738 739 740 741 742\n",
            " 743 744 745 746 747 748 749 750 751 752 753 754 755 756 757 758 759 760\n",
            " 761 762 763 764 765 766 767] TEST: [ 61  64  66  70  72  78  83  84  85  86  87  88  89  90  91  92  93  94\n",
            "  95  96  97  98  99 100 101 102 103 104 105 106 107 108 109 110 111 112\n",
            " 113 114 115 116 117 118 119 120 121 122 123 124 125 126 127 128 129 130\n",
            " 131 132 133 134 135 136 137 138 139 140 141 142 143 144 145 146 147 148\n",
            " 149 150 151 152 153]\n",
            "TRAIN: [  0   1   2   3   4   5   6   7   8   9  10  11  12  13  14  15  16  17\n",
            "  18  19  20  21  22  23  24  25  26  27  28  29  30  31  32  33  34  35\n",
            "  36  37  38  39  40  41  42  43  44  45  46  47  48  49  50  51  52  53\n",
            "  54  55  56  57  58  59  60  61  62  63  64  65  66  67  68  69  70  71\n",
            "  72  73  74  75  76  77  78  79  80  81  82  83  84  85  86  87  88  89\n",
            "  90  91  92  93  94  95  96  97  98  99 100 101 102 103 104 105 106 107\n",
            " 108 109 110 111 112 113 114 115 116 117 118 119 120 121 122 123 124 125\n",
            " 126 127 128 129 130 131 132 133 134 135 136 137 138 139 140 141 142 143\n",
            " 144 145 146 147 148 149 150 151 152 153 216 218 219 220 221 227 230 231\n",
            " 235 236 237 238 242 243 245 246 247 248 249 250 251 252 253 254 255 256\n",
            " 257 258 259 260 261 262 263 264 265 266 267 268 269 270 271 272 273 274\n",
            " 275 276 277 278 279 280 281 282 283 284 285 286 287 288 289 290 291 292\n",
            " 293 294 295 296 297 298 299 300 301 302 303 304 305 306 307 308 309 310\n",
            " 311 312 313 314 315 316 317 318 319 320 321 322 323 324 325 326 327 328\n",
            " 329 330 331 332 333 334 335 336 337 338 339 340 341 342 343 344 345 346\n",
            " 347 348 349 350 351 352 353 354 355 356 357 358 359 360 361 362 363 364\n",
            " 365 366 367 368 369 370 371 372 373 374 375 376 377 378 379 380 381 382\n",
            " 383 384 385 386 387 388 389 390 391 392 393 394 395 396 397 398 399 400\n",
            " 401 402 403 404 405 406 407 408 409 410 411 412 413 414 415 416 417 418\n",
            " 419 420 421 422 423 424 425 426 427 428 429 430 431 432 433 434 435 436\n",
            " 437 438 439 440 441 442 443 444 445 446 447 448 449 450 451 452 453 454\n",
            " 455 456 457 458 459 460 461 462 463 464 465 466 467 468 469 470 471 472\n",
            " 473 474 475 476 477 478 479 480 481 482 483 484 485 486 487 488 489 490\n",
            " 491 492 493 494 495 496 497 498 499 500 501 502 503 504 505 506 507 508\n",
            " 509 510 511 512 513 514 515 516 517 518 519 520 521 522 523 524 525 526\n",
            " 527 528 529 530 531 532 533 534 535 536 537 538 539 540 541 542 543 544\n",
            " 545 546 547 548 549 550 551 552 553 554 555 556 557 558 559 560 561 562\n",
            " 563 564 565 566 567 568 569 570 571 572 573 574 575 576 577 578 579 580\n",
            " 581 582 583 584 585 586 587 588 589 590 591 592 593 594 595 596 597 598\n",
            " 599 600 601 602 603 604 605 606 607 608 609 610 611 612 613 614 615 616\n",
            " 617 618 619 620 621 622 623 624 625 626 627 628 629 630 631 632 633 634\n",
            " 635 636 637 638 639 640 641 642 643 644 645 646 647 648 649 650 651 652\n",
            " 653 654 655 656 657 658 659 660 661 662 663 664 665 666 667 668 669 670\n",
            " 671 672 673 674 675 676 677 678 679 680 681 682 683 684 685 686 687 688\n",
            " 689 690 691 692 693 694 695 696 697 698 699 700 701 702 703 704 705 706\n",
            " 707 708 709 710 711 712 713 714 715 716 717 718 719 720 721 722 723 724\n",
            " 725 726 727 728 729 730 731 732 733 734 735 736 737 738 739 740 741 742\n",
            " 743 744 745 746 747 748 749 750 751 752 753 754 755 756 757 758 759 760\n",
            " 761 762 763 764 765 766 767] TEST: [154 155 156 157 158 159 160 161 162 163 164 165 166 167 168 169 170 171\n",
            " 172 173 174 175 176 177 178 179 180 181 182 183 184 185 186 187 188 189\n",
            " 190 191 192 193 194 195 196 197 198 199 200 201 202 203 204 205 206 207\n",
            " 208 209 210 211 212 213 214 215 217 222 223 224 225 226 228 229 232 233\n",
            " 234 239 240 241 244]\n",
            "TRAIN: [  0   1   2   3   4   5   6   7   8   9  10  11  12  13  14  15  16  17\n",
            "  18  19  20  21  22  23  24  25  26  27  28  29  30  31  32  33  34  35\n",
            "  36  37  38  39  40  41  42  43  44  45  46  47  48  49  50  51  52  53\n",
            "  54  55  56  57  58  59  60  61  62  63  64  65  66  67  68  69  70  71\n",
            "  72  73  74  75  76  77  78  79  80  81  82  83  84  85  86  87  88  89\n",
            "  90  91  92  93  94  95  96  97  98  99 100 101 102 103 104 105 106 107\n",
            " 108 109 110 111 112 113 114 115 116 117 118 119 120 121 122 123 124 125\n",
            " 126 127 128 129 130 131 132 133 134 135 136 137 138 139 140 141 142 143\n",
            " 144 145 146 147 148 149 150 151 152 153 154 155 156 157 158 159 160 161\n",
            " 162 163 164 165 166 167 168 169 170 171 172 173 174 175 176 177 178 179\n",
            " 180 181 182 183 184 185 186 187 188 189 190 191 192 193 194 195 196 197\n",
            " 198 199 200 201 202 203 204 205 206 207 208 209 210 211 212 213 214 215\n",
            " 217 222 223 224 225 226 228 229 232 233 234 239 240 241 244 287 291 292\n",
            " 293 296 298 300 301 303 306 308 309 312 314 317 319 321 322 323 326 328\n",
            " 329 330 331 332 333 334 335 336 337 338 339 340 341 342 343 344 345 346\n",
            " 347 348 349 350 351 352 353 354 355 356 357 358 359 360 361 362 363 364\n",
            " 365 366 367 368 369 370 371 372 373 374 375 376 377 378 379 380 381 382\n",
            " 383 384 385 386 387 388 389 390 391 392 393 394 395 396 397 398 399 400\n",
            " 401 402 403 404 405 406 407 408 409 410 411 412 413 414 415 416 417 418\n",
            " 419 420 421 422 423 424 425 426 427 428 429 430 431 432 433 434 435 436\n",
            " 437 438 439 440 441 442 443 444 445 446 447 448 449 450 451 452 453 454\n",
            " 455 456 457 458 459 460 461 462 463 464 465 466 467 468 469 470 471 472\n",
            " 473 474 475 476 477 478 479 480 481 482 483 484 485 486 487 488 489 490\n",
            " 491 492 493 494 495 496 497 498 499 500 501 502 503 504 505 506 507 508\n",
            " 509 510 511 512 513 514 515 516 517 518 519 520 521 522 523 524 525 526\n",
            " 527 528 529 530 531 532 533 534 535 536 537 538 539 540 541 542 543 544\n",
            " 545 546 547 548 549 550 551 552 553 554 555 556 557 558 559 560 561 562\n",
            " 563 564 565 566 567 568 569 570 571 572 573 574 575 576 577 578 579 580\n",
            " 581 582 583 584 585 586 587 588 589 590 591 592 593 594 595 596 597 598\n",
            " 599 600 601 602 603 604 605 606 607 608 609 610 611 612 613 614 615 616\n",
            " 617 618 619 620 621 622 623 624 625 626 627 628 629 630 631 632 633 634\n",
            " 635 636 637 638 639 640 641 642 643 644 645 646 647 648 649 650 651 652\n",
            " 653 654 655 656 657 658 659 660 661 662 663 664 665 666 667 668 669 670\n",
            " 671 672 673 674 675 676 677 678 679 680 681 682 683 684 685 686 687 688\n",
            " 689 690 691 692 693 694 695 696 697 698 699 700 701 702 703 704 705 706\n",
            " 707 708 709 710 711 712 713 714 715 716 717 718 719 720 721 722 723 724\n",
            " 725 726 727 728 729 730 731 732 733 734 735 736 737 738 739 740 741 742\n",
            " 743 744 745 746 747 748 749 750 751 752 753 754 755 756 757 758 759 760\n",
            " 761 762 763 764 765 766 767] TEST: [216 218 219 220 221 227 230 231 235 236 237 238 242 243 245 246 247 248\n",
            " 249 250 251 252 253 254 255 256 257 258 259 260 261 262 263 264 265 266\n",
            " 267 268 269 270 271 272 273 274 275 276 277 278 279 280 281 282 283 284\n",
            " 285 286 288 289 290 294 295 297 299 302 304 305 307 310 311 313 315 316\n",
            " 318 320 324 325 327]\n",
            "TRAIN: [  0   1   2   3   4   5   6   7   8   9  10  11  12  13  14  15  16  17\n",
            "  18  19  20  21  22  23  24  25  26  27  28  29  30  31  32  33  34  35\n",
            "  36  37  38  39  40  41  42  43  44  45  46  47  48  49  50  51  52  53\n",
            "  54  55  56  57  58  59  60  61  62  63  64  65  66  67  68  69  70  71\n",
            "  72  73  74  75  76  77  78  79  80  81  82  83  84  85  86  87  88  89\n",
            "  90  91  92  93  94  95  96  97  98  99 100 101 102 103 104 105 106 107\n",
            " 108 109 110 111 112 113 114 115 116 117 118 119 120 121 122 123 124 125\n",
            " 126 127 128 129 130 131 132 133 134 135 136 137 138 139 140 141 142 143\n",
            " 144 145 146 147 148 149 150 151 152 153 154 155 156 157 158 159 160 161\n",
            " 162 163 164 165 166 167 168 169 170 171 172 173 174 175 176 177 178 179\n",
            " 180 181 182 183 184 185 186 187 188 189 190 191 192 193 194 195 196 197\n",
            " 198 199 200 201 202 203 204 205 206 207 208 209 210 211 212 213 214 215\n",
            " 216 217 218 219 220 221 222 223 224 225 226 227 228 229 230 231 232 233\n",
            " 234 235 236 237 238 239 240 241 242 243 244 245 246 247 248 249 250 251\n",
            " 252 253 254 255 256 257 258 259 260 261 262 263 264 265 266 267 268 269\n",
            " 270 271 272 273 274 275 276 277 278 279 280 281 282 283 284 285 286 288\n",
            " 289 290 294 295 297 299 302 304 305 307 310 311 313 315 316 318 320 324\n",
            " 325 327 356 357 359 360 363 366 369 370 375 378 386 387 388 391 394 397\n",
            " 399 400 402 404 405 406 407 408 409 410 411 412 413 414 415 416 417 418\n",
            " 419 420 421 422 423 424 425 426 427 428 429 430 431 432 433 434 435 436\n",
            " 437 438 439 440 441 442 443 444 445 446 447 448 449 450 451 452 453 454\n",
            " 455 456 457 458 459 460 461 462 463 464 465 466 467 468 469 470 471 472\n",
            " 473 474 475 476 477 478 479 480 481 482 483 484 485 486 487 488 489 490\n",
            " 491 492 493 494 495 496 497 498 499 500 501 502 503 504 505 506 507 508\n",
            " 509 510 511 512 513 514 515 516 517 518 519 520 521 522 523 524 525 526\n",
            " 527 528 529 530 531 532 533 534 535 536 537 538 539 540 541 542 543 544\n",
            " 545 546 547 548 549 550 551 552 553 554 555 556 557 558 559 560 561 562\n",
            " 563 564 565 566 567 568 569 570 571 572 573 574 575 576 577 578 579 580\n",
            " 581 582 583 584 585 586 587 588 589 590 591 592 593 594 595 596 597 598\n",
            " 599 600 601 602 603 604 605 606 607 608 609 610 611 612 613 614 615 616\n",
            " 617 618 619 620 621 622 623 624 625 626 627 628 629 630 631 632 633 634\n",
            " 635 636 637 638 639 640 641 642 643 644 645 646 647 648 649 650 651 652\n",
            " 653 654 655 656 657 658 659 660 661 662 663 664 665 666 667 668 669 670\n",
            " 671 672 673 674 675 676 677 678 679 680 681 682 683 684 685 686 687 688\n",
            " 689 690 691 692 693 694 695 696 697 698 699 700 701 702 703 704 705 706\n",
            " 707 708 709 710 711 712 713 714 715 716 717 718 719 720 721 722 723 724\n",
            " 725 726 727 728 729 730 731 732 733 734 735 736 737 738 739 740 741 742\n",
            " 743 744 745 746 747 748 749 750 751 752 753 754 755 756 757 758 759 760\n",
            " 761 762 763 764 765 766 767] TEST: [287 291 292 293 296 298 300 301 303 306 308 309 312 314 317 319 321 322\n",
            " 323 326 328 329 330 331 332 333 334 335 336 337 338 339 340 341 342 343\n",
            " 344 345 346 347 348 349 350 351 352 353 354 355 358 361 362 364 365 367\n",
            " 368 371 372 373 374 376 377 379 380 381 382 383 384 385 389 390 392 393\n",
            " 395 396 398 401 403]\n",
            "TRAIN: [  0   1   2   3   4   5   6   7   8   9  10  11  12  13  14  15  16  17\n",
            "  18  19  20  21  22  23  24  25  26  27  28  29  30  31  32  33  34  35\n",
            "  36  37  38  39  40  41  42  43  44  45  46  47  48  49  50  51  52  53\n",
            "  54  55  56  57  58  59  60  61  62  63  64  65  66  67  68  69  70  71\n",
            "  72  73  74  75  76  77  78  79  80  81  82  83  84  85  86  87  88  89\n",
            "  90  91  92  93  94  95  96  97  98  99 100 101 102 103 104 105 106 107\n",
            " 108 109 110 111 112 113 114 115 116 117 118 119 120 121 122 123 124 125\n",
            " 126 127 128 129 130 131 132 133 134 135 136 137 138 139 140 141 142 143\n",
            " 144 145 146 147 148 149 150 151 152 153 154 155 156 157 158 159 160 161\n",
            " 162 163 164 165 166 167 168 169 170 171 172 173 174 175 176 177 178 179\n",
            " 180 181 182 183 184 185 186 187 188 189 190 191 192 193 194 195 196 197\n",
            " 198 199 200 201 202 203 204 205 206 207 208 209 210 211 212 213 214 215\n",
            " 216 217 218 219 220 221 222 223 224 225 226 227 228 229 230 231 232 233\n",
            " 234 235 236 237 238 239 240 241 242 243 244 245 246 247 248 249 250 251\n",
            " 252 253 254 255 256 257 258 259 260 261 262 263 264 265 266 267 268 269\n",
            " 270 271 272 273 274 275 276 277 278 279 280 281 282 283 284 285 286 287\n",
            " 288 289 290 291 292 293 294 295 296 297 298 299 300 301 302 303 304 305\n",
            " 306 307 308 309 310 311 312 313 314 315 316 317 318 319 320 321 322 323\n",
            " 324 325 326 327 328 329 330 331 332 333 334 335 336 337 338 339 340 341\n",
            " 342 343 344 345 346 347 348 349 350 351 352 353 354 355 358 361 362 364\n",
            " 365 367 368 371 372 373 374 376 377 379 380 381 382 383 384 385 389 390\n",
            " 392 393 395 396 398 401 403 424 425 427 429 435 440 443 444 445 448 451\n",
            " 455 458 468 476 477 478 479 480 481 482 483 484 485 486 487 488 489 490\n",
            " 491 492 493 494 495 496 497 498 499 500 501 502 503 504 505 506 507 508\n",
            " 509 510 511 512 513 514 515 516 517 518 519 520 521 522 523 524 525 526\n",
            " 527 528 529 530 531 532 533 534 535 536 537 538 539 540 541 542 543 544\n",
            " 545 546 547 548 549 550 551 552 553 554 555 556 557 558 559 560 561 562\n",
            " 563 564 565 566 567 568 569 570 571 572 573 574 575 576 577 578 579 580\n",
            " 581 582 583 584 585 586 587 588 589 590 591 592 593 594 595 596 597 598\n",
            " 599 600 601 602 603 604 605 606 607 608 609 610 611 612 613 614 615 616\n",
            " 617 618 619 620 621 622 623 624 625 626 627 628 629 630 631 632 633 634\n",
            " 635 636 637 638 639 640 641 642 643 644 645 646 647 648 649 650 651 652\n",
            " 653 654 655 656 657 658 659 660 661 662 663 664 665 666 667 668 669 670\n",
            " 671 672 673 674 675 676 677 678 679 680 681 682 683 684 685 686 687 688\n",
            " 689 690 691 692 693 694 695 696 697 698 699 700 701 702 703 704 705 706\n",
            " 707 708 709 710 711 712 713 714 715 716 717 718 719 720 721 722 723 724\n",
            " 725 726 727 728 729 730 731 732 733 734 735 736 737 738 739 740 741 742\n",
            " 743 744 745 746 747 748 749 750 751 752 753 754 755 756 757 758 759 760\n",
            " 761 762 763 764 765 766 767] TEST: [356 357 359 360 363 366 369 370 375 378 386 387 388 391 394 397 399 400\n",
            " 402 404 405 406 407 408 409 410 411 412 413 414 415 416 417 418 419 420\n",
            " 421 422 423 426 428 430 431 432 433 434 436 437 438 439 441 442 446 447\n",
            " 449 450 452 453 454 456 457 459 460 461 462 463 464 465 466 467 469 470\n",
            " 471 472 473 474 475]\n",
            "TRAIN: [  0   1   2   3   4   5   6   7   8   9  10  11  12  13  14  15  16  17\n",
            "  18  19  20  21  22  23  24  25  26  27  28  29  30  31  32  33  34  35\n",
            "  36  37  38  39  40  41  42  43  44  45  46  47  48  49  50  51  52  53\n",
            "  54  55  56  57  58  59  60  61  62  63  64  65  66  67  68  69  70  71\n",
            "  72  73  74  75  76  77  78  79  80  81  82  83  84  85  86  87  88  89\n",
            "  90  91  92  93  94  95  96  97  98  99 100 101 102 103 104 105 106 107\n",
            " 108 109 110 111 112 113 114 115 116 117 118 119 120 121 122 123 124 125\n",
            " 126 127 128 129 130 131 132 133 134 135 136 137 138 139 140 141 142 143\n",
            " 144 145 146 147 148 149 150 151 152 153 154 155 156 157 158 159 160 161\n",
            " 162 163 164 165 166 167 168 169 170 171 172 173 174 175 176 177 178 179\n",
            " 180 181 182 183 184 185 186 187 188 189 190 191 192 193 194 195 196 197\n",
            " 198 199 200 201 202 203 204 205 206 207 208 209 210 211 212 213 214 215\n",
            " 216 217 218 219 220 221 222 223 224 225 226 227 228 229 230 231 232 233\n",
            " 234 235 236 237 238 239 240 241 242 243 244 245 246 247 248 249 250 251\n",
            " 252 253 254 255 256 257 258 259 260 261 262 263 264 265 266 267 268 269\n",
            " 270 271 272 273 274 275 276 277 278 279 280 281 282 283 284 285 286 287\n",
            " 288 289 290 291 292 293 294 295 296 297 298 299 300 301 302 303 304 305\n",
            " 306 307 308 309 310 311 312 313 314 315 316 317 318 319 320 321 322 323\n",
            " 324 325 326 327 328 329 330 331 332 333 334 335 336 337 338 339 340 341\n",
            " 342 343 344 345 346 347 348 349 350 351 352 353 354 355 356 357 358 359\n",
            " 360 361 362 363 364 365 366 367 368 369 370 371 372 373 374 375 376 377\n",
            " 378 379 380 381 382 383 384 385 386 387 388 389 390 391 392 393 394 395\n",
            " 396 397 398 399 400 401 402 403 404 405 406 407 408 409 410 411 412 413\n",
            " 414 415 416 417 418 419 420 421 422 423 426 428 430 431 432 433 434 436\n",
            " 437 438 439 441 442 446 447 449 450 452 453 454 456 457 459 460 461 462\n",
            " 463 464 465 466 467 469 470 471 472 473 474 475 539 540 541 542 543 544\n",
            " 545 546 547 548 549 550 551 552 553 554 555 556 557 558 559 560 561 562\n",
            " 563 564 565 566 567 568 569 570 571 572 573 574 575 576 577 578 579 580\n",
            " 581 582 583 584 585 586 587 588 589 590 591 592 593 594 595 596 597 598\n",
            " 599 600 601 602 603 604 605 606 607 608 609 610 611 612 613 614 615 616\n",
            " 617 618 619 620 621 622 623 624 625 626 627 628 629 630 631 632 633 634\n",
            " 635 636 637 638 639 640 641 642 643 644 645 646 647 648 649 650 651 652\n",
            " 653 654 655 656 657 658 659 660 661 662 663 664 665 666 667 668 669 670\n",
            " 671 672 673 674 675 676 677 678 679 680 681 682 683 684 685 686 687 688\n",
            " 689 690 691 692 693 694 695 696 697 698 699 700 701 702 703 704 705 706\n",
            " 707 708 709 710 711 712 713 714 715 716 717 718 719 720 721 722 723 724\n",
            " 725 726 727 728 729 730 731 732 733 734 735 736 737 738 739 740 741 742\n",
            " 743 744 745 746 747 748 749 750 751 752 753 754 755 756 757 758 759 760\n",
            " 761 762 763 764 765 766 767] TEST: [424 425 427 429 435 440 443 444 445 448 451 455 458 468 476 477 478 479\n",
            " 480 481 482 483 484 485 486 487 488 489 490 491 492 493 494 495 496 497\n",
            " 498 499 500 501 502 503 504 505 506 507 508 509 510 511 512 513 514 515\n",
            " 516 517 518 519 520 521 522 523 524 525 526 527 528 529 530 531 532 533\n",
            " 534 535 536 537 538]\n",
            "TRAIN: [  0   1   2   3   4   5   6   7   8   9  10  11  12  13  14  15  16  17\n",
            "  18  19  20  21  22  23  24  25  26  27  28  29  30  31  32  33  34  35\n",
            "  36  37  38  39  40  41  42  43  44  45  46  47  48  49  50  51  52  53\n",
            "  54  55  56  57  58  59  60  61  62  63  64  65  66  67  68  69  70  71\n",
            "  72  73  74  75  76  77  78  79  80  81  82  83  84  85  86  87  88  89\n",
            "  90  91  92  93  94  95  96  97  98  99 100 101 102 103 104 105 106 107\n",
            " 108 109 110 111 112 113 114 115 116 117 118 119 120 121 122 123 124 125\n",
            " 126 127 128 129 130 131 132 133 134 135 136 137 138 139 140 141 142 143\n",
            " 144 145 146 147 148 149 150 151 152 153 154 155 156 157 158 159 160 161\n",
            " 162 163 164 165 166 167 168 169 170 171 172 173 174 175 176 177 178 179\n",
            " 180 181 182 183 184 185 186 187 188 189 190 191 192 193 194 195 196 197\n",
            " 198 199 200 201 202 203 204 205 206 207 208 209 210 211 212 213 214 215\n",
            " 216 217 218 219 220 221 222 223 224 225 226 227 228 229 230 231 232 233\n",
            " 234 235 236 237 238 239 240 241 242 243 244 245 246 247 248 249 250 251\n",
            " 252 253 254 255 256 257 258 259 260 261 262 263 264 265 266 267 268 269\n",
            " 270 271 272 273 274 275 276 277 278 279 280 281 282 283 284 285 286 287\n",
            " 288 289 290 291 292 293 294 295 296 297 298 299 300 301 302 303 304 305\n",
            " 306 307 308 309 310 311 312 313 314 315 316 317 318 319 320 321 322 323\n",
            " 324 325 326 327 328 329 330 331 332 333 334 335 336 337 338 339 340 341\n",
            " 342 343 344 345 346 347 348 349 350 351 352 353 354 355 356 357 358 359\n",
            " 360 361 362 363 364 365 366 367 368 369 370 371 372 373 374 375 376 377\n",
            " 378 379 380 381 382 383 384 385 386 387 388 389 390 391 392 393 394 395\n",
            " 396 397 398 399 400 401 402 403 404 405 406 407 408 409 410 411 412 413\n",
            " 414 415 416 417 418 419 420 421 422 423 424 425 426 427 428 429 430 431\n",
            " 432 433 434 435 436 437 438 439 440 441 442 443 444 445 446 447 448 449\n",
            " 450 451 452 453 454 455 456 457 458 459 460 461 462 463 464 465 466 467\n",
            " 468 469 470 471 472 473 474 475 476 477 478 479 480 481 482 483 484 485\n",
            " 486 487 488 489 490 491 492 493 494 495 496 497 498 499 500 501 502 503\n",
            " 504 505 506 507 508 509 510 511 512 513 514 515 516 517 518 519 520 521\n",
            " 522 523 524 525 526 527 528 529 530 531 532 533 534 535 536 537 538 613\n",
            " 615 616 617 620 621 622 623 624 625 626 627 628 629 630 631 632 633 634\n",
            " 635 636 637 638 639 640 641 642 643 644 645 646 647 648 649 650 651 652\n",
            " 653 654 655 656 657 658 659 660 661 662 663 664 665 666 667 668 669 670\n",
            " 671 672 673 674 675 676 677 678 679 680 681 682 683 684 685 686 687 688\n",
            " 689 690 691 692 693 694 695 696 697 698 699 700 701 702 703 704 705 706\n",
            " 707 708 709 710 711 712 713 714 715 716 717 718 719 720 721 722 723 724\n",
            " 725 726 727 728 729 730 731 732 733 734 735 736 737 738 739 740 741 742\n",
            " 743 744 745 746 747 748 749 750 751 752 753 754 755 756 757 758 759 760\n",
            " 761 762 763 764 765 766 767] TEST: [539 540 541 542 543 544 545 546 547 548 549 550 551 552 553 554 555 556\n",
            " 557 558 559 560 561 562 563 564 565 566 567 568 569 570 571 572 573 574\n",
            " 575 576 577 578 579 580 581 582 583 584 585 586 587 588 589 590 591 592\n",
            " 593 594 595 596 597 598 599 600 601 602 603 604 605 606 607 608 609 610\n",
            " 611 612 614 618 619]\n",
            "TRAIN: [  0   1   2   3   4   5   6   7   8   9  10  11  12  13  14  15  16  17\n",
            "  18  19  20  21  22  23  24  25  26  27  28  29  30  31  32  33  34  35\n",
            "  36  37  38  39  40  41  42  43  44  45  46  47  48  49  50  51  52  53\n",
            "  54  55  56  57  58  59  60  61  62  63  64  65  66  67  68  69  70  71\n",
            "  72  73  74  75  76  77  78  79  80  81  82  83  84  85  86  87  88  89\n",
            "  90  91  92  93  94  95  96  97  98  99 100 101 102 103 104 105 106 107\n",
            " 108 109 110 111 112 113 114 115 116 117 118 119 120 121 122 123 124 125\n",
            " 126 127 128 129 130 131 132 133 134 135 136 137 138 139 140 141 142 143\n",
            " 144 145 146 147 148 149 150 151 152 153 154 155 156 157 158 159 160 161\n",
            " 162 163 164 165 166 167 168 169 170 171 172 173 174 175 176 177 178 179\n",
            " 180 181 182 183 184 185 186 187 188 189 190 191 192 193 194 195 196 197\n",
            " 198 199 200 201 202 203 204 205 206 207 208 209 210 211 212 213 214 215\n",
            " 216 217 218 219 220 221 222 223 224 225 226 227 228 229 230 231 232 233\n",
            " 234 235 236 237 238 239 240 241 242 243 244 245 246 247 248 249 250 251\n",
            " 252 253 254 255 256 257 258 259 260 261 262 263 264 265 266 267 268 269\n",
            " 270 271 272 273 274 275 276 277 278 279 280 281 282 283 284 285 286 287\n",
            " 288 289 290 291 292 293 294 295 296 297 298 299 300 301 302 303 304 305\n",
            " 306 307 308 309 310 311 312 313 314 315 316 317 318 319 320 321 322 323\n",
            " 324 325 326 327 328 329 330 331 332 333 334 335 336 337 338 339 340 341\n",
            " 342 343 344 345 346 347 348 349 350 351 352 353 354 355 356 357 358 359\n",
            " 360 361 362 363 364 365 366 367 368 369 370 371 372 373 374 375 376 377\n",
            " 378 379 380 381 382 383 384 385 386 387 388 389 390 391 392 393 394 395\n",
            " 396 397 398 399 400 401 402 403 404 405 406 407 408 409 410 411 412 413\n",
            " 414 415 416 417 418 419 420 421 422 423 424 425 426 427 428 429 430 431\n",
            " 432 433 434 435 436 437 438 439 440 441 442 443 444 445 446 447 448 449\n",
            " 450 451 452 453 454 455 456 457 458 459 460 461 462 463 464 465 466 467\n",
            " 468 469 470 471 472 473 474 475 476 477 478 479 480 481 482 483 484 485\n",
            " 486 487 488 489 490 491 492 493 494 495 496 497 498 499 500 501 502 503\n",
            " 504 505 506 507 508 509 510 511 512 513 514 515 516 517 518 519 520 521\n",
            " 522 523 524 525 526 527 528 529 530 531 532 533 534 535 536 537 538 539\n",
            " 540 541 542 543 544 545 546 547 548 549 550 551 552 553 554 555 556 557\n",
            " 558 559 560 561 562 563 564 565 566 567 568 569 570 571 572 573 574 575\n",
            " 576 577 578 579 580 581 582 583 584 585 586 587 588 589 590 591 592 593\n",
            " 594 595 596 597 598 599 600 601 602 603 604 605 606 607 608 609 610 611\n",
            " 612 614 618 619 686 687 688 690 692 694 697 698 699 700 702 703 704 705\n",
            " 706 707 708 709 710 711 712 713 714 715 716 717 718 719 720 721 722 723\n",
            " 724 725 726 727 728 729 730 731 732 733 734 735 736 737 738 739 740 741\n",
            " 742 743 744 745 746 747 748 749 750 751 752 753 754 755 756 757 758 759\n",
            " 760 761 762 763 764 765 766 767] TEST: [613 615 616 617 620 621 622 623 624 625 626 627 628 629 630 631 632 633\n",
            " 634 635 636 637 638 639 640 641 642 643 644 645 646 647 648 649 650 651\n",
            " 652 653 654 655 656 657 658 659 660 661 662 663 664 665 666 667 668 669\n",
            " 670 671 672 673 674 675 676 677 678 679 680 681 682 683 684 685 689 691\n",
            " 693 695 696 701]\n",
            "TRAIN: [  0   1   2   3   4   5   6   7   8   9  10  11  12  13  14  15  16  17\n",
            "  18  19  20  21  22  23  24  25  26  27  28  29  30  31  32  33  34  35\n",
            "  36  37  38  39  40  41  42  43  44  45  46  47  48  49  50  51  52  53\n",
            "  54  55  56  57  58  59  60  61  62  63  64  65  66  67  68  69  70  71\n",
            "  72  73  74  75  76  77  78  79  80  81  82  83  84  85  86  87  88  89\n",
            "  90  91  92  93  94  95  96  97  98  99 100 101 102 103 104 105 106 107\n",
            " 108 109 110 111 112 113 114 115 116 117 118 119 120 121 122 123 124 125\n",
            " 126 127 128 129 130 131 132 133 134 135 136 137 138 139 140 141 142 143\n",
            " 144 145 146 147 148 149 150 151 152 153 154 155 156 157 158 159 160 161\n",
            " 162 163 164 165 166 167 168 169 170 171 172 173 174 175 176 177 178 179\n",
            " 180 181 182 183 184 185 186 187 188 189 190 191 192 193 194 195 196 197\n",
            " 198 199 200 201 202 203 204 205 206 207 208 209 210 211 212 213 214 215\n",
            " 216 217 218 219 220 221 222 223 224 225 226 227 228 229 230 231 232 233\n",
            " 234 235 236 237 238 239 240 241 242 243 244 245 246 247 248 249 250 251\n",
            " 252 253 254 255 256 257 258 259 260 261 262 263 264 265 266 267 268 269\n",
            " 270 271 272 273 274 275 276 277 278 279 280 281 282 283 284 285 286 287\n",
            " 288 289 290 291 292 293 294 295 296 297 298 299 300 301 302 303 304 305\n",
            " 306 307 308 309 310 311 312 313 314 315 316 317 318 319 320 321 322 323\n",
            " 324 325 326 327 328 329 330 331 332 333 334 335 336 337 338 339 340 341\n",
            " 342 343 344 345 346 347 348 349 350 351 352 353 354 355 356 357 358 359\n",
            " 360 361 362 363 364 365 366 367 368 369 370 371 372 373 374 375 376 377\n",
            " 378 379 380 381 382 383 384 385 386 387 388 389 390 391 392 393 394 395\n",
            " 396 397 398 399 400 401 402 403 404 405 406 407 408 409 410 411 412 413\n",
            " 414 415 416 417 418 419 420 421 422 423 424 425 426 427 428 429 430 431\n",
            " 432 433 434 435 436 437 438 439 440 441 442 443 444 445 446 447 448 449\n",
            " 450 451 452 453 454 455 456 457 458 459 460 461 462 463 464 465 466 467\n",
            " 468 469 470 471 472 473 474 475 476 477 478 479 480 481 482 483 484 485\n",
            " 486 487 488 489 490 491 492 493 494 495 496 497 498 499 500 501 502 503\n",
            " 504 505 506 507 508 509 510 511 512 513 514 515 516 517 518 519 520 521\n",
            " 522 523 524 525 526 527 528 529 530 531 532 533 534 535 536 537 538 539\n",
            " 540 541 542 543 544 545 546 547 548 549 550 551 552 553 554 555 556 557\n",
            " 558 559 560 561 562 563 564 565 566 567 568 569 570 571 572 573 574 575\n",
            " 576 577 578 579 580 581 582 583 584 585 586 587 588 589 590 591 592 593\n",
            " 594 595 596 597 598 599 600 601 602 603 604 605 606 607 608 609 610 611\n",
            " 612 613 614 615 616 617 618 619 620 621 622 623 624 625 626 627 628 629\n",
            " 630 631 632 633 634 635 636 637 638 639 640 641 642 643 644 645 646 647\n",
            " 648 649 650 651 652 653 654 655 656 657 658 659 660 661 662 663 664 665\n",
            " 666 667 668 669 670 671 672 673 674 675 676 677 678 679 680 681 682 683\n",
            " 684 685 689 691 693 695 696 701] TEST: [686 687 688 690 692 694 697 698 699 700 702 703 704 705 706 707 708 709\n",
            " 710 711 712 713 714 715 716 717 718 719 720 721 722 723 724 725 726 727\n",
            " 728 729 730 731 732 733 734 735 736 737 738 739 740 741 742 743 744 745\n",
            " 746 747 748 749 750 751 752 753 754 755 756 757 758 759 760 761 762 763\n",
            " 764 765 766 767]\n"
          ]
        }
      ]
    },
    {
      "cell_type": "code",
      "source": [
        "np.average(scores)"
      ],
      "metadata": {
        "colab": {
          "base_uri": "https://localhost:8080/"
        },
        "id": "QLsrYircEDJi",
        "outputId": "bef05f0e-1203-4455-dae3-c54ba4ea295d"
      },
      "execution_count": 15,
      "outputs": [
        {
          "output_type": "execute_result",
          "data": {
            "text/plain": [
              "0.7857142857142857"
            ]
          },
          "metadata": {},
          "execution_count": 15
        }
      ]
    },
    {
      "cell_type": "markdown",
      "source": [
        "Define the Model"
      ],
      "metadata": {
        "id": "5HK8OXbkz_jv"
      }
    },
    {
      "cell_type": "markdown",
      "source": [
        "Fit the Model"
      ],
      "metadata": {
        "id": "G1bmqXai0I9F"
      }
    },
    {
      "cell_type": "code",
      "source": [
        "cv_scores = cross_val_score(classifier, x, y, cv=10)"
      ],
      "metadata": {
        "id": "mi3KMypB6NJI"
      },
      "execution_count": 16,
      "outputs": []
    },
    {
      "cell_type": "code",
      "source": [
        "print(cv_scores)\n",
        "print('cv_scores mean:{}'.format(np.mean(cv_scores)))"
      ],
      "metadata": {
        "colab": {
          "base_uri": "https://localhost:8080/"
        },
        "id": "gx1t8-8U7d7k",
        "outputId": "64899bb5-d0e4-45c7-b6c3-40f089a6a018"
      },
      "execution_count": 17,
      "outputs": [
        {
          "output_type": "stream",
          "name": "stdout",
          "text": [
            "[0.68831169 0.75324675 0.68831169 0.66233766 0.71428571 0.72727273\n",
            " 0.76623377 0.79220779 0.75       0.80263158]\n",
            "cv_scores mean:0.7344839371155161\n"
          ]
        }
      ]
    },
    {
      "cell_type": "code",
      "source": [
        "classifier.fit(x_train, y_train)"
      ],
      "metadata": {
        "colab": {
          "base_uri": "https://localhost:8080/"
        },
        "id": "fMnwiCut0Lc9",
        "outputId": "37fff98d-b156-4945-b214-7b5a673d4c6b"
      },
      "execution_count": 18,
      "outputs": [
        {
          "output_type": "execute_result",
          "data": {
            "text/plain": [
              "KNeighborsClassifier(metric='euclidean', n_neighbors=11)"
            ]
          },
          "metadata": {},
          "execution_count": 18
        }
      ]
    },
    {
      "cell_type": "markdown",
      "source": [
        "Predict the test set results"
      ],
      "metadata": {
        "id": "OUbWlEar0l4h"
      }
    },
    {
      "cell_type": "code",
      "source": [
        "y_pred = classifier.predict(x_test)\n",
        "y_pred"
      ],
      "metadata": {
        "colab": {
          "base_uri": "https://localhost:8080/"
        },
        "id": "LZgo0tpv0pWf",
        "outputId": "aa54084f-ef19-4982-fbfd-c2abbd9c16c5"
      },
      "execution_count": 19,
      "outputs": [
        {
          "output_type": "execute_result",
          "data": {
            "text/plain": [
              "array([1, 1, 0, 1, 0, 1, 0, 1, 1, 0, 0, 1, 1, 0, 0, 0, 0, 0, 0, 0, 1, 1,\n",
              "       0, 0, 1, 0, 1, 1, 0, 1, 0, 1, 0, 0, 0, 0, 0, 1, 1, 1, 0, 0, 0, 0,\n",
              "       0, 1, 1, 0, 1, 1, 0, 0, 0, 1, 1, 0, 1, 1, 0, 0, 1, 0, 1, 0, 0, 0,\n",
              "       1, 0, 0, 0, 1, 0, 0, 0, 0, 0, 1, 1, 0, 1, 0, 0, 0, 0, 0, 0, 0, 0,\n",
              "       1, 0, 0, 0, 1, 1, 1, 1, 0, 0, 0, 0, 0, 0, 0, 1, 0, 1, 0, 0, 0, 1,\n",
              "       0, 0, 0, 0, 0, 1, 0, 0, 1, 0, 0, 0, 0, 0, 0, 0, 0, 0, 0, 0, 0, 1,\n",
              "       0, 1, 1, 1, 1, 1, 0, 1, 0, 1, 0, 1, 0, 1, 0, 1, 0, 0, 0, 0, 0, 1])"
            ]
          },
          "metadata": {},
          "execution_count": 19
        }
      ]
    },
    {
      "cell_type": "markdown",
      "source": [
        "Evaluate Model"
      ],
      "metadata": {
        "id": "hYKDD-o10lxh"
      }
    },
    {
      "cell_type": "code",
      "source": [
        "cm = confusion_matrix(y_test, y_pred)\n",
        "print(cm)"
      ],
      "metadata": {
        "colab": {
          "base_uri": "https://localhost:8080/"
        },
        "id": "ORyMuXRT0zmr",
        "outputId": "d0a28d13-ef54-4ffb-acce-18003f7a5fcd"
      },
      "execution_count": 20,
      "outputs": [
        {
          "output_type": "stream",
          "name": "stdout",
          "text": [
            "[[83 17]\n",
            " [16 38]]\n"
          ]
        }
      ]
    },
    {
      "cell_type": "code",
      "source": [
        "cr = classification_report(y_true=y_test, y_pred=y_pred, target_names=['No Diabetes', 'Diabetes'])\n",
        "print(cr)"
      ],
      "metadata": {
        "colab": {
          "base_uri": "https://localhost:8080/"
        },
        "id": "P83RoDvVt5T0",
        "outputId": "d3b7d23d-0eda-425e-c1ab-85ae6fe3442a"
      },
      "execution_count": 21,
      "outputs": [
        {
          "output_type": "stream",
          "name": "stdout",
          "text": [
            "              precision    recall  f1-score   support\n",
            "\n",
            " No Diabetes       0.84      0.83      0.83       100\n",
            "    Diabetes       0.69      0.70      0.70        54\n",
            "\n",
            "    accuracy                           0.79       154\n",
            "   macro avg       0.76      0.77      0.77       154\n",
            "weighted avg       0.79      0.79      0.79       154\n",
            "\n"
          ]
        }
      ]
    },
    {
      "cell_type": "code",
      "source": [
        "print(f1_score(y_pred, y_test))"
      ],
      "metadata": {
        "colab": {
          "base_uri": "https://localhost:8080/"
        },
        "id": "IYmVw3xovWV3",
        "outputId": "e9ea2e4e-16a9-4901-c72a-cc04e8eeb713"
      },
      "execution_count": 22,
      "outputs": [
        {
          "output_type": "stream",
          "name": "stdout",
          "text": [
            "0.6972477064220184\n"
          ]
        }
      ]
    }
  ]
}